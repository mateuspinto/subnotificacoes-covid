{
 "cells": [
  {
   "cell_type": "code",
   "execution_count": 1,
   "id": "2c828a6d",
   "metadata": {},
   "outputs": [],
   "source": [
    "import pandas as pd\n",
    "import numpy as np\n",
    "import datetime\n",
    "\n",
    "from common.path import *\n",
    "from common.data_processing import *"
   ]
  },
  {
   "cell_type": "code",
   "execution_count": 3,
   "id": "cf8cb44d",
   "metadata": {},
   "outputs": [],
   "source": [
    "# obs: trocar o caminho de leitura do arquivo\n",
    "\n",
    "raw = pd.read_csv('influd16_limpo_final.csv', delimiter=';', encoding='iso-8859-1', low_memory=False, usecols = ['CS_SEXO', 'DT_NASC', 'ID_MUNICIP', 'DT_NOTIFIC', 'PUERPERA', 'CARDIOPATI','SIND_DOWN', 'HEPATICA', 'NEUROLOGIC', 'PNEUMOPATI','IMUNODEPRE', 'RENAL','OBESIDADE','FEBRE', 'TOSSE', 'GARGANTA','DISPNEIA', 'DESC_RESP','SATURACAO', 'DIARREIA'])"
   ]
  },
  {
   "cell_type": "code",
   "execution_count": 4,
   "id": "0719e15b",
   "metadata": {},
   "outputs": [],
   "source": [
    "processed = new_blank_dataframe(len(raw))\n",
    "\n",
    "processed['cad_dt_nascimento'] = raw['DT_NASC']\n",
    "unoptimzed_n_way_column_map(raw['CS_SEXO'], processed['cad_sexo'], ['F','M'], [1,0])\n",
    "n_way_column_filter(raw['ID_MUNICIP'], processed['cad_cod_cidade'], lambda x: x<=0, 0)\n",
    "\n",
    "n_way_column_map(raw['PUERPERA'], processed['fr_puerpera'], [1,2], [1,0])\n",
    "n_way_column_map(raw['CARDIOPATI'], processed['fr_cardiopatia'], [1,2], [1,0])\n",
    "n_way_column_map(raw['SIND_DOWN'], processed['fr_snd_down'], [1,2], [1,0])\n",
    "n_way_column_map(raw['HEPATICA'], processed['fr_hepatia'], [1,2], [1,0])\n",
    "n_way_column_map(raw['NEUROLOGIC'], processed['fr_neuropatia'], [1,2], [1,0])\n",
    "n_way_column_map(raw['PNEUMOPATI'], processed['fr_pneumopatia'], [1,2], [1,0])\n",
    "n_way_column_map(raw['IMUNODEPRE'], processed['fr_imunodepressao'], [1,2], [1,0])\n",
    "n_way_column_map(raw['RENAL'], processed['fr_doenca_renal'], [1,2], [1,0])\n",
    "n_way_column_map(raw['OBESIDADE'], processed['fr_obesidade'], [1,2], [1,0])\n",
    "\n",
    "\n",
    "n_way_column_map(raw['FEBRE'], processed['sint_febre'], [1,2], [1,0])\n",
    "n_way_column_map(raw['TOSSE'], processed['sint_tosse'], [1,2], [1,0])\n",
    "n_way_column_map(raw['GARGANTA'], processed['sint_dor_garganta'], [1,2], [1,0])\n",
    "n_way_column_map(raw['DISPNEIA'], processed['sint_dispneia'], [1,2], [1,0])\n",
    "n_way_column_map(raw['DESC_RESP'], processed['sint_dfc_respiratorio'], [1,2], [1,0])\n",
    "n_way_column_map(raw['SATURACAO'], processed['sint_saturacao'], [1,2], [1,0])\n",
    "n_way_column_map(raw['DIARREIA'], processed['sint_diarreia'], [1,2], [1,0])"
   ]
  },
  {
   "cell_type": "code",
   "execution_count": null,
   "id": "1c5502cb",
   "metadata": {},
   "outputs": [],
   "source": []
  }
 ],
 "metadata": {
  "kernelspec": {
   "display_name": "Python 3",
   "language": "python",
   "name": "python3"
  },
  "language_info": {
   "codemirror_mode": {
    "name": "ipython",
    "version": 3
   },
   "file_extension": ".py",
   "mimetype": "text/x-python",
   "name": "python",
   "nbconvert_exporter": "python",
   "pygments_lexer": "ipython3",
   "version": "3.8.8"
  }
 },
 "nbformat": 4,
 "nbformat_minor": 5
}
